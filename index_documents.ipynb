{
 "cells": [
  {
   "cell_type": "markdown",
   "metadata": {},
   "source": [
    "## Create a simple index with a knn_vector field\n",
    "\n",
    "curl -X PUT \"https://localhost:9200/article_index\" -H 'Content-Type: application/json' -ku 'admin:admin' -d'\n",
    "{\n",
    "   \"settings\": {\n",
    "      \"index.knn\": true\n",
    "   },\n",
    "   \"mappings\": {\n",
    "      \"properties\": {\n",
    "         \"vector_field\": {\n",
    "            \"type\": \"knn_vector\",\n",
    "            \"dimension\": 768,\n",
    "            \"method\": {\n",
    "            \"name\": \"hnsw\",\n",
    "            \"space_type\": \"l2\",\n",
    "            \"engine\": \"lucene\"\n",
    "            }\n",
    "         },\n",
    "         \"title\": {\n",
    "            \"type\": \"text\"\n",
    "         },\n",
    "         \"news_id\": {\n",
    "            \"type\": \"text\"\n",
    "         },\n",
    "         \"text\": {\n",
    "            \"type\": \"text\"\n",
    "         },\n",
    "         \"url\": {\n",
    "            \"type\": \"text\"\n",
    "         }\n",
    "      }\n",
    "   }\n",
    "}\n",
    "'"
   ]
  },
  {
   "cell_type": "markdown",
   "metadata": {},
   "source": [
    "## load test data"
   ]
  },
  {
   "cell_type": "code",
   "execution_count": null,
   "metadata": {},
   "outputs": [],
   "source": [
    "import pandas as pd\n",
    "\n",
    "df = pd.read_csv('data/test_data.csv')\n",
    "df.head()\n"
   ]
  },
  {
   "cell_type": "markdown",
   "metadata": {},
   "source": [
    "## create embeddings for text"
   ]
  },
  {
   "cell_type": "code",
   "execution_count": null,
   "metadata": {},
   "outputs": [],
   "source": [
    "import requests\n",
    "\n",
    "def get_embeddings(text):\n",
    "    url = 'http://localhost:80/embeddings'\n",
    "    myobj = {\"text\":text}\n",
    "    x = requests.post(url, json = myobj)\n",
    "    return x.json()['emb_vector']\n",
    "\n",
    "df['emb'] = df.apply(lambda x: get_embeddings(x.text), axis=1)"
   ]
  },
  {
   "cell_type": "code",
   "execution_count": null,
   "metadata": {},
   "outputs": [],
   "source": [
    "actions = []\n",
    "for i in range(len(df)):\n",
    "    document = {\n",
    "          \"vector_field\": df.emb[i],\n",
    "          \"title\": df.title[i],\n",
    "          \"news_id\": df.news_id[i],\n",
    "          \"text\": df.text[i],\n",
    "          \"url\": df.url[i]\n",
    "        }\n",
    "    action = {\"_op_type\": \"index\", \"_index\": \"article_index\", \"_id\": i, \"_source\": document}    \n",
    "    actions.append(action)"
   ]
  },
  {
   "cell_type": "markdown",
   "metadata": {},
   "source": [
    "## insert the documents in the opensearch index"
   ]
  },
  {
   "cell_type": "code",
   "execution_count": null,
   "metadata": {},
   "outputs": [],
   "source": [
    "from opensearchpy import OpenSearch\n",
    "from opensearchpy.helpers import bulk\n",
    "\n",
    "host = 'localhost'\n",
    "port = 9200\n",
    "auth = ('admin', 'admin')\n",
    "\n",
    "client = OpenSearch(\n",
    "    hosts = [{'host': host, 'port': port}],\n",
    "    http_compress = True, # enables gzip compression for request bodies\n",
    "    http_auth = auth,\n",
    "    use_ssl = True,\n",
    "    verify_certs = False,\n",
    "    ssl_assert_hostname = False,\n",
    "    ssl_show_warn = False,\n",
    ")\n",
    "success, failed = bulk(client, actions)"
   ]
  }
 ],
 "metadata": {
  "kernelspec": {
   "display_name": "Python 3.8.16 ('ml_env_')",
   "language": "python",
   "name": "python3"
  },
  "language_info": {
   "codemirror_mode": {
    "name": "ipython",
    "version": 3
   },
   "file_extension": ".py",
   "mimetype": "text/x-python",
   "name": "python",
   "nbconvert_exporter": "python",
   "pygments_lexer": "ipython3",
   "version": "3.8.16"
  },
  "orig_nbformat": 4,
  "vscode": {
   "interpreter": {
    "hash": "f8b63b0be8dba0b0824ecb21351be87c27e5191c5e94c1f29c38b9a99fc5976c"
   }
  }
 },
 "nbformat": 4,
 "nbformat_minor": 2
}
